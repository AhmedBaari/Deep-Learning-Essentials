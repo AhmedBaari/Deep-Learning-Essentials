{
 "cells": [
  {
   "cell_type": "code",
   "execution_count": 16,
   "id": "23effae5",
   "metadata": {},
   "outputs": [],
   "source": [
    "import pandas as pd\n",
    "import numpy as np\n",
    "import tensorflow as tf\n",
    "import warnings\n",
    "warnings.filterwarnings(\"ignore\")"
   ]
  },
  {
   "cell_type": "code",
   "execution_count": 17,
   "id": "3d2a0ef9",
   "metadata": {},
   "outputs": [],
   "source": [
    "import matplotlib.pyplot as plt\n",
    "from tensorflow.keras import layers,optimizers,Sequential"
   ]
  },
  {
   "cell_type": "code",
   "execution_count": 19,
   "id": "ad07caf5",
   "metadata": {},
   "outputs": [],
   "source": [
    "from sklearn.model_selection import train_test_split\n",
    "from tensorflow.keras.preprocessing import image_dataset_from_directory"
   ]
  },
  {
   "cell_type": "code",
   "execution_count": 32,
   "id": "34d19154",
   "metadata": {},
   "outputs": [
    {
     "name": "stdout",
     "output_type": "stream",
     "text": [
      "Found 990 files belonging to 3 classes.\n",
      "Using 792 files for training.\n"
     ]
    }
   ],
   "source": [
    "train_dta = image_dataset_from_directory(\n",
    "\"E:/126156156/Bean_Dataset\",\n",
    "validation_split=0.2,\n",
    "subset=\"training\",\n",
    "seed = 42,\n",
    "verbose = True,\n",
    "batch_size=32,\n",
    "shuffle=True,\n",
    "image_size=(256,256))"
   ]
  },
  {
   "cell_type": "code",
   "execution_count": 33,
   "id": "53dc622b",
   "metadata": {},
   "outputs": [
    {
     "name": "stdout",
     "output_type": "stream",
     "text": [
      "Found 990 files belonging to 3 classes.\n",
      "Using 198 files for validation.\n"
     ]
    }
   ],
   "source": [
    "validation_dta = image_dataset_from_directory(\n",
    "\"E:/126156156/Bean_Dataset\",\n",
    "validation_split=0.2,\n",
    "subset=\"validation\",\n",
    "seed = 42,\n",
    "verbose = True,\n",
    "batch_size=32,\n",
    "shuffle=True,\n",
    "image_size=(256,256))"
   ]
  },
  {
   "cell_type": "code",
   "execution_count": 35,
   "id": "84c75cfa",
   "metadata": {},
   "outputs": [
    {
     "name": "stdout",
     "output_type": "stream",
     "text": [
      "tf.Tensor(\n",
      "[[[[4.19776611e+01 7.50245361e+01 0.00000000e+00]\n",
      "   [4.22717896e+01 7.14592896e+01 0.00000000e+00]\n",
      "   [5.09001465e+01 7.54286499e+01 5.81652832e+00]\n",
      "   ...\n",
      "   [1.34266907e+02 1.56735657e+02 4.45302124e+01]\n",
      "   [1.08303467e+02 1.37920654e+02 2.16957397e+01]\n",
      "   [9.53432007e+01 1.27390076e+02 8.96038818e+00]]\n",
      "\n",
      "  [[4.14321899e+01 7.24321899e+01 0.00000000e+00]\n",
      "   [4.33580933e+01 7.36229248e+01 0.00000000e+00]\n",
      "   [4.98060913e+01 7.55708618e+01 2.27697754e+00]\n",
      "   ...\n",
      "   [1.22997314e+02 1.44677429e+02 2.90680542e+01]\n",
      "   [1.06205505e+02 1.35731812e+02 7.09771729e+00]\n",
      "   [1.02185852e+02 1.32571533e+02 2.24914551e-01]]\n",
      "\n",
      "  [[3.88395386e+01 6.70867920e+01 3.64868164e-01]\n",
      "   [3.76241455e+01 6.74058228e+01 2.18322754e-01]\n",
      "   [3.85293579e+01 6.47618408e+01 0.00000000e+00]\n",
      "   ...\n",
      "   [1.25131165e+02 1.52951721e+02 3.31607666e+01]\n",
      "   [1.18611511e+02 1.47479980e+02 5.69134521e+00]\n",
      "   [1.22844177e+02 1.51490295e+02 4.75549316e+00]]\n",
      "\n",
      "  ...\n",
      "\n",
      "  [[1.38039246e+02 8.63333740e+01 3.93333740e+01]\n",
      "   [1.36270325e+02 8.60659180e+01 4.08007202e+01]\n",
      "   [1.55023438e+02 1.05257812e+02 6.22578125e+01]\n",
      "   ...\n",
      "   [1.64674011e+02 1.30207153e+02 8.56777954e+01]\n",
      "   [1.72241333e+02 1.30241333e+02 9.10069580e+01]\n",
      "   [1.66566284e+02 1.24566284e+02 8.53319092e+01]]\n",
      "\n",
      "  [[1.61723267e+02 1.13048523e+02 6.72734375e+01]\n",
      "   [1.64441650e+02 1.16951538e+02 7.31965942e+01]\n",
      "   [1.73425720e+02 1.28136658e+02 8.35663452e+01]\n",
      "   ...\n",
      "   [1.58546448e+02 1.28695740e+02 7.85772705e+01]\n",
      "   [1.68562500e+02 1.26421875e+02 8.18515625e+01]\n",
      "   [1.72439148e+02 1.29439148e+02 8.68688354e+01]]\n",
      "\n",
      "  [[1.59513977e+02 1.10513977e+02 6.75139771e+01]\n",
      "   [1.75215454e+02 1.28215454e+02 8.42154541e+01]\n",
      "   [1.83578552e+02 1.39578552e+02 9.45785522e+01]\n",
      "   ...\n",
      "   [1.61039062e+02 1.31718750e+02 8.08046875e+01]\n",
      "   [1.74861023e+02 1.33448608e+02 8.58342896e+01]\n",
      "   [1.80710938e+02 1.37710938e+02 9.47109375e+01]]]\n",
      "\n",
      "\n",
      " [[[3.83526611e+01 2.53057861e+01 1.38292236e+01]\n",
      "   [1.94753418e+01 9.43914795e+00 5.97045898e-01]\n",
      "   [1.16691284e+01 6.58319092e+00 0.00000000e+00]\n",
      "   ...\n",
      "   [7.61847534e+01 5.56870728e+01 3.66273193e+01]\n",
      "   [8.35674438e+01 5.64268188e+01 4.45674438e+01]\n",
      "   [7.75010986e+01 4.95010986e+01 3.85010986e+01]]\n",
      "\n",
      "  [[3.25530396e+01 2.09625854e+01 8.96258545e+00]\n",
      "   [1.87109375e+01 9.75494385e+00 2.45056152e-01]\n",
      "   [1.18984375e+01 6.42968750e+00 0.00000000e+00]\n",
      "   ...\n",
      "   [6.17261353e+01 4.41866455e+01 2.73980103e+01]\n",
      "   [7.41492310e+01 4.97877808e+01 3.74382935e+01]\n",
      "   [7.61138916e+01 5.04029541e+01 3.89732666e+01]]\n",
      "\n",
      "  [[2.93621216e+01 1.77918091e+01 8.31524658e+00]\n",
      "   [1.82973022e+01 9.80468750e+00 7.03979492e-01]\n",
      "   [1.22324829e+01 6.76373291e+00 0.00000000e+00]\n",
      "   ...\n",
      "   [4.90764771e+01 3.50802612e+01 1.97542725e+01]\n",
      "   [5.94930420e+01 4.01488647e+01 2.66653442e+01]\n",
      "   [5.77164307e+01 3.72476807e+01 2.42297363e+01]]\n",
      "\n",
      "  ...\n",
      "\n",
      "  [[1.00938965e+02 6.18920898e+01 5.94155273e+01]\n",
      "   [7.67434692e+01 4.01970215e+01 3.87673340e+01]\n",
      "   [8.65553589e+01 5.29949951e+01 5.08484497e+01]\n",
      "   ...\n",
      "   [1.50037842e+01 3.70037842e+01 1.38470459e+00]\n",
      "   [1.42352295e+01 3.48524170e+01 1.08679199e+00]\n",
      "   [1.68612671e+01 3.88612671e+01 1.57220459e+00]]\n",
      "\n",
      "  [[9.57166748e+01 5.77166748e+01 5.67166748e+01]\n",
      "   [8.87195435e+01 4.95789185e+01 4.91492310e+01]\n",
      "   [1.05907959e+02 6.63376465e+01 6.73376465e+01]\n",
      "   ...\n",
      "   [2.55786743e+01 5.10482788e+01 1.72296753e+01]\n",
      "   [1.96669312e+01 4.36669312e+01 9.66693115e+00]\n",
      "   [1.83174438e+01 4.23174438e+01 6.86102295e+00]]\n",
      "\n",
      "  [[1.14575378e+02 7.45753784e+01 7.45753784e+01]\n",
      "   [1.14842102e+02 7.48421021e+01 7.48421021e+01]\n",
      "   [1.22618042e+02 8.26180420e+01 8.36180420e+01]\n",
      "   ...\n",
      "   [6.27284546e+01 8.79108887e+01 5.53635864e+01]\n",
      "   [3.64498291e+01 6.04498291e+01 2.84498291e+01]\n",
      "   [4.15892334e+01 6.55892334e+01 3.30903320e+01]]]\n",
      "\n",
      "\n",
      " [[[1.37056885e+02 1.96602661e+02 3.58538818e+00]\n",
      "   [1.30695740e+02 1.92350342e+02 3.74548340e+00]\n",
      "   [1.31262878e+02 1.93786316e+02 6.85430908e+00]\n",
      "   ...\n",
      "   [1.19051941e+02 1.80851562e+02 3.74995728e+01]\n",
      "   [1.19812134e+02 1.82288696e+02 3.42418213e+01]\n",
      "   [1.16967773e+02 1.79967773e+02 3.06116943e+01]]\n",
      "\n",
      "  [[1.75050171e+02 2.30751648e+02 1.94703979e+01]\n",
      "   [1.71764343e+02 2.28623718e+02 1.89127808e+01]\n",
      "   [1.68468323e+02 2.26632812e+02 1.89218750e+01]\n",
      "   ...\n",
      "   [1.16428101e+02 1.81045288e+02 2.96633301e+01]\n",
      "   [1.03293518e+02 1.69048462e+02 1.10484619e+01]\n",
      "   [1.07634399e+02 1.73634399e+02 1.47922974e+01]]\n",
      "\n",
      "  [[1.18199951e+02 1.78718323e+02 0.00000000e+00]\n",
      "   [1.14384521e+02 1.76579834e+02 0.00000000e+00]\n",
      "   [1.11261597e+02 1.74466858e+02 0.00000000e+00]\n",
      "   ...\n",
      "   [1.06317932e+02 1.71698853e+02 2.46477051e+01]\n",
      "   [9.05473022e+01 1.57164490e+02 3.11633301e+00]\n",
      "   [9.62728271e+01 1.62890015e+02 8.15606689e+00]]\n",
      "\n",
      "  ...\n",
      "\n",
      "  [[1.99096069e+02 1.48627319e+02 8.70960693e+01]\n",
      "   [2.06046448e+02 1.56108093e+02 9.43116455e+01]\n",
      "   [2.06915955e+02 1.57681580e+02 9.55331421e+01]\n",
      "   ...\n",
      "   [9.44687500e+01 1.33939392e+02 1.10859375e+01]\n",
      "   [1.13593750e+02 1.69711365e+02 2.44774170e+01]\n",
      "   [1.11237122e+02 1.71562927e+02 2.28804932e+01]]\n",
      "\n",
      "  [[1.49486816e+02 8.68803101e+01 3.57853394e+01]\n",
      "   [1.85469849e+02 1.24232605e+02 7.40841675e+01]\n",
      "   [1.91311646e+02 1.35530823e+02 8.38042603e+01]\n",
      "   ...\n",
      "   [8.26011353e+01 1.11842468e+02 2.62414551e+00]\n",
      "   [8.19432373e+01 1.21943237e+02 5.64636230e+00]\n",
      "   [7.63967896e+01 1.25937500e+02 6.65008545e+00]]\n",
      "\n",
      "  [[1.27341980e+02 6.02951050e+01 1.08185425e+01]\n",
      "   [1.20670288e+02 5.66340942e+01 9.95935059e+00]\n",
      "   [1.28934570e+02 6.82365112e+01 2.39005737e+01]\n",
      "   ...\n",
      "   [7.78433228e+01 1.05694885e+02 0.00000000e+00]\n",
      "   [6.28030396e+01 9.84296875e+01 0.00000000e+00]\n",
      "   [5.35630493e+01 9.96099243e+01 0.00000000e+00]]]\n",
      "\n",
      "\n",
      " ...\n",
      "\n",
      "\n",
      " [[[8.18622437e+01 1.17563721e+02 3.03142700e+01]\n",
      "   [8.93129883e+01 1.35770630e+02 4.23504028e+01]\n",
      "   [8.26769409e+01 1.39660889e+02 4.14136353e+01]\n",
      "   ...\n",
      "   [5.24083862e+01 3.69658203e+01 1.16708374e+01]\n",
      "   [2.63532104e+01 2.08125000e+01 1.60772705e+00]\n",
      "   [1.37728882e+01 1.07728882e+01 0.00000000e+00]]\n",
      "\n",
      "  [[6.41870117e+01 9.61228638e+01 2.35776367e+01]\n",
      "   [5.96945190e+01 1.02184631e+02 2.25177002e+01]\n",
      "   [6.89852295e+01 1.23095886e+02 3.21098022e+01]\n",
      "   ...\n",
      "   [3.95308228e+01 2.69227295e+01 3.92187500e+00]\n",
      "   [1.98231812e+01 1.55341187e+01 1.04400635e+00]\n",
      "   [7.97326660e+00 5.00000000e+00 0.00000000e+00]]\n",
      "\n",
      "  [[1.39328003e+01 3.42659912e+01 4.41192627e+00]\n",
      "   [2.92686157e+01 5.80802612e+01 7.49475098e+00]\n",
      "   [3.71351929e+01 7.81333008e+01 9.02532959e+00]\n",
      "   ...\n",
      "   [3.14706421e+01 2.51794434e+01 6.32409668e+00]\n",
      "   [1.23428955e+01 1.09531250e+01 5.30395508e-01]\n",
      "   [3.57031250e+00 3.36993408e+00 0.00000000e+00]]\n",
      "\n",
      "  ...\n",
      "\n",
      "  [[1.34783569e+02 7.57835693e+01 8.17835693e+01]\n",
      "   [1.38398865e+02 7.83988647e+01 8.63988647e+01]\n",
      "   [1.41915955e+02 8.45331421e+01 9.46815796e+01]\n",
      "   ...\n",
      "   [2.97933350e+01 6.82620850e+01 1.93798828e+00]\n",
      "   [3.87998657e+01 7.23849487e+01 2.96221924e+00]\n",
      "   [6.74159546e+01 9.69780273e+01 3.07987671e+01]]\n",
      "\n",
      "  [[1.33429688e+02 7.24296875e+01 7.74296875e+01]\n",
      "   [1.37104431e+02 7.81044312e+01 8.41044312e+01]\n",
      "   [1.41467468e+02 8.25312500e+01 8.92261353e+01]\n",
      "   ...\n",
      "   [3.50021362e+01 7.19153442e+01 4.93469238e-01]\n",
      "   [4.34942627e+01 7.13856812e+01 3.74713135e+00]\n",
      "   [6.92746582e+01 8.10279541e+01 2.82919312e+01]]\n",
      "\n",
      "  [[1.32476562e+02 7.14765625e+01 7.64765625e+01]\n",
      "   [1.35906250e+02 7.69062500e+01 8.29062500e+01]\n",
      "   [1.40390625e+02 8.13906250e+01 8.73906250e+01]\n",
      "   ...\n",
      "   [3.86902466e+01 7.40390625e+01 9.69177246e-01]\n",
      "   [5.30579834e+01 7.43750000e+01 7.87048340e+00]\n",
      "   [7.78515625e+01 7.98911743e+01 3.43750000e+01]]]\n",
      "\n",
      "\n",
      " [[[1.23313599e+02 6.41975098e+01 4.35407104e+01]\n",
      "   [1.13172668e+02 5.49650269e+01 3.43774414e+01]\n",
      "   [1.36449097e+02 8.26213989e+01 5.90194092e+01]\n",
      "   ...\n",
      "   [1.56156677e+02 7.77559204e+01 5.49383545e+01]\n",
      "   [1.54937073e+02 7.77121582e+01 5.72623291e+01]\n",
      "   [1.54861572e+02 7.78615723e+01 5.78615723e+01]]\n",
      "\n",
      "  [[1.29771851e+02 8.33672485e+01 5.15374756e+01]\n",
      "   [1.24723999e+02 8.68440552e+01 4.94867554e+01]\n",
      "   [1.19351013e+02 9.17633667e+01 4.90228882e+01]\n",
      "   ...\n",
      "   [1.58248596e+02 8.25446167e+01 6.24270020e+01]\n",
      "   [1.55710938e+02 8.07109375e+01 6.12208252e+01]\n",
      "   [1.48465881e+02 7.34658813e+01 5.44658813e+01]]\n",
      "\n",
      "  [[1.15694702e+02 9.08169556e+01 4.98688965e+01]\n",
      "   [1.13801575e+02 9.25112305e+01 4.80984497e+01]\n",
      "   [1.19200256e+02 9.97587280e+01 5.39658813e+01]\n",
      "   ...\n",
      "   [1.56034790e+02 8.10347900e+01 6.20347900e+01]\n",
      "   [1.58692322e+02 8.16923218e+01 6.25516968e+01]\n",
      "   [1.46631958e+02 6.96319580e+01 4.96319580e+01]]\n",
      "\n",
      "  ...\n",
      "\n",
      "  [[1.91100708e+02 1.43225281e+02 1.38730774e+02]\n",
      "   [1.82882385e+02 1.26968323e+02 1.23680115e+02]\n",
      "   [1.78161194e+02 1.15157410e+02 1.12776489e+02]\n",
      "   ...\n",
      "   [5.13146362e+01 3.07189941e+01 1.54649658e+01]\n",
      "   [7.39326782e+01 7.54556885e+01 3.72994385e+01]\n",
      "   [1.01751648e+02 1.11988342e+02 6.26997070e+01]]\n",
      "\n",
      "  [[1.95113892e+02 1.44563721e+02 1.40338806e+02]\n",
      "   [1.88221619e+02 1.34852356e+02 1.29527100e+02]\n",
      "   [1.90463623e+02 1.34339050e+02 1.28134644e+02]\n",
      "   ...\n",
      "   [9.26408691e+01 9.55158691e+01 4.98670044e+01]\n",
      "   [9.00682373e+01 1.10727356e+02 4.45419312e+01]\n",
      "   [8.47590332e+01 1.09862244e+02 3.93264771e+01]]\n",
      "\n",
      "  [[1.97335938e+02 1.46335938e+02 1.42335938e+02]\n",
      "   [1.98485168e+02 1.45485168e+02 1.39485168e+02]\n",
      "   [2.06653503e+02 1.51653503e+02 1.44653503e+02]\n",
      "   ...\n",
      "   [9.11353760e+01 1.01725952e+02 4.52838135e+01]\n",
      "   [7.73330688e+01 1.01184631e+02 3.03129272e+01]\n",
      "   [7.68839111e+01 1.03930786e+02 2.94073486e+01]]]\n",
      "\n",
      "\n",
      " [[[8.99805298e+01 1.64980530e+02 9.79805298e+01]\n",
      "   [8.95151978e+01 1.67374573e+02 9.23667603e+01]\n",
      "   [9.70897217e+01 1.77532288e+02 8.82018433e+01]\n",
      "   ...\n",
      "   [1.09709045e+02 1.04508667e+02 6.50867920e+01]\n",
      "   [1.16804688e+02 1.09009460e+02 6.24391479e+01]\n",
      "   [1.11607727e+02 1.04084290e+02 6.36546021e+01]]\n",
      "\n",
      "  [[1.01055115e+02 1.75531677e+02 1.11484802e+02]\n",
      "   [9.07056885e+01 1.67135376e+02 9.21879883e+01]\n",
      "   [9.03711548e+01 1.69573425e+02 7.90825195e+01]\n",
      "   ...\n",
      "   [1.20250000e+02 1.16031677e+02 7.11562500e+01]\n",
      "   [1.16453918e+02 1.09313293e+02 6.18836060e+01]\n",
      "   [1.18931335e+02 1.11931335e+02 6.89782104e+01]]\n",
      "\n",
      "  [[1.14216431e+02 1.85310181e+02 1.26276184e+02]\n",
      "   [9.57803955e+01 1.69210083e+02 9.52092285e+01]\n",
      "   [9.27745972e+01 1.69631836e+02 7.82705688e+01]\n",
      "   ...\n",
      "   [1.08446716e+02 1.01063904e+02 5.70347900e+01]\n",
      "   [1.16914490e+02 1.10179688e+02 6.44149170e+01]\n",
      "   [1.22003174e+02 1.15003174e+02 7.24149170e+01]]\n",
      "\n",
      "  ...\n",
      "\n",
      "  [[3.74748535e+01 9.91283569e+01 1.02197876e+01]\n",
      "   [6.27518311e+01 1.15439331e+02 3.80261230e+01]\n",
      "   [5.27110596e+01 9.93516846e+01 1.98867188e+01]\n",
      "   ...\n",
      "   [1.05763245e+02 1.47650085e+02 6.29097900e+01]\n",
      "   [1.33822876e+02 1.40283386e+02 8.03931885e+01]\n",
      "   [1.40070312e+02 1.39041382e+02 8.52449341e+01]]\n",
      "\n",
      "  [[3.03223877e+01 1.07603638e+02 1.45355225e+00]\n",
      "   [4.20328369e+01 1.17735962e+02 1.23823242e+01]\n",
      "   [7.76240234e+01 1.50561523e+02 4.48115234e+01]\n",
      "   ...\n",
      "   [9.31840820e+01 1.50730957e+02 6.21372070e+01]\n",
      "   [1.29029785e+02 1.47676147e+02 8.57847290e+01]\n",
      "   [1.37341614e+02 1.36697693e+02 9.34180908e+01]]\n",
      "\n",
      "  [[2.56483154e+01 1.08695190e+02 1.61938477e+00]\n",
      "   [5.38963623e+01 1.35486816e+02 2.44868164e+01]\n",
      "   [7.50369263e+01 1.54672058e+02 4.38544922e+01]\n",
      "   ...\n",
      "   [8.35257568e+01 1.44267944e+02 5.56741943e+01]\n",
      "   [1.15995422e+02 1.39625366e+02 7.63112183e+01]\n",
      "   [1.12405151e+02 1.12787964e+02 7.09285889e+01]]]], shape=(32, 256, 256, 3), dtype=float32)\n"
     ]
    }
   ],
   "source": [
    "for img , label in train_dta.take(1):\n",
    "    print(img)"
   ]
  },
  {
   "cell_type": "code",
   "execution_count": 36,
   "id": "60a2c33c",
   "metadata": {},
   "outputs": [],
   "source": [
    "ANN_model = Sequential([\n",
    "    layers.Flatten(input_shape = [256,256,3]),\n",
    "    layers.Dense(300,activation=\"relu\"),\n",
    "    layers.Dropout(0.3),\n",
    "    layers.Dense(100,activation=\"relu\"),\n",
    "    layers.Dropout(0.1),\n",
    "    layers.Dense(3,activation=\"softmax\")\n",
    "])"
   ]
  },
  {
   "cell_type": "code",
   "execution_count": 37,
   "id": "fb98860d",
   "metadata": {},
   "outputs": [
    {
     "data": {
      "text/html": [
       "<pre style=\"white-space:pre;overflow-x:auto;line-height:normal;font-family:Menlo,'DejaVu Sans Mono',consolas,'Courier New',monospace\"><span style=\"font-weight: bold\">Model: \"sequential\"</span>\n",
       "</pre>\n"
      ],
      "text/plain": [
       "\u001b[1mModel: \"sequential\"\u001b[0m\n"
      ]
     },
     "metadata": {},
     "output_type": "display_data"
    },
    {
     "data": {
      "text/html": [
       "<pre style=\"white-space:pre;overflow-x:auto;line-height:normal;font-family:Menlo,'DejaVu Sans Mono',consolas,'Courier New',monospace\">┏━━━━━━━━━━━━━━━━━━━━━━━━━━━━━━━━━━━━━━┳━━━━━━━━━━━━━━━━━━━━━━━━━━━━━┳━━━━━━━━━━━━━━━━━┓\n",
       "┃<span style=\"font-weight: bold\"> Layer (type)                         </span>┃<span style=\"font-weight: bold\"> Output Shape                </span>┃<span style=\"font-weight: bold\">         Param # </span>┃\n",
       "┡━━━━━━━━━━━━━━━━━━━━━━━━━━━━━━━━━━━━━━╇━━━━━━━━━━━━━━━━━━━━━━━━━━━━━╇━━━━━━━━━━━━━━━━━┩\n",
       "│ flatten (<span style=\"color: #0087ff; text-decoration-color: #0087ff\">Flatten</span>)                    │ (<span style=\"color: #00d7ff; text-decoration-color: #00d7ff\">None</span>, <span style=\"color: #00af00; text-decoration-color: #00af00\">196608</span>)              │               <span style=\"color: #00af00; text-decoration-color: #00af00\">0</span> │\n",
       "├──────────────────────────────────────┼─────────────────────────────┼─────────────────┤\n",
       "│ dense (<span style=\"color: #0087ff; text-decoration-color: #0087ff\">Dense</span>)                        │ (<span style=\"color: #00d7ff; text-decoration-color: #00d7ff\">None</span>, <span style=\"color: #00af00; text-decoration-color: #00af00\">300</span>)                 │      <span style=\"color: #00af00; text-decoration-color: #00af00\">58,982,700</span> │\n",
       "├──────────────────────────────────────┼─────────────────────────────┼─────────────────┤\n",
       "│ dropout (<span style=\"color: #0087ff; text-decoration-color: #0087ff\">Dropout</span>)                    │ (<span style=\"color: #00d7ff; text-decoration-color: #00d7ff\">None</span>, <span style=\"color: #00af00; text-decoration-color: #00af00\">300</span>)                 │               <span style=\"color: #00af00; text-decoration-color: #00af00\">0</span> │\n",
       "├──────────────────────────────────────┼─────────────────────────────┼─────────────────┤\n",
       "│ dense_1 (<span style=\"color: #0087ff; text-decoration-color: #0087ff\">Dense</span>)                      │ (<span style=\"color: #00d7ff; text-decoration-color: #00d7ff\">None</span>, <span style=\"color: #00af00; text-decoration-color: #00af00\">100</span>)                 │          <span style=\"color: #00af00; text-decoration-color: #00af00\">30,100</span> │\n",
       "├──────────────────────────────────────┼─────────────────────────────┼─────────────────┤\n",
       "│ dropout_1 (<span style=\"color: #0087ff; text-decoration-color: #0087ff\">Dropout</span>)                  │ (<span style=\"color: #00d7ff; text-decoration-color: #00d7ff\">None</span>, <span style=\"color: #00af00; text-decoration-color: #00af00\">100</span>)                 │               <span style=\"color: #00af00; text-decoration-color: #00af00\">0</span> │\n",
       "├──────────────────────────────────────┼─────────────────────────────┼─────────────────┤\n",
       "│ dense_2 (<span style=\"color: #0087ff; text-decoration-color: #0087ff\">Dense</span>)                      │ (<span style=\"color: #00d7ff; text-decoration-color: #00d7ff\">None</span>, <span style=\"color: #00af00; text-decoration-color: #00af00\">3</span>)                   │             <span style=\"color: #00af00; text-decoration-color: #00af00\">303</span> │\n",
       "└──────────────────────────────────────┴─────────────────────────────┴─────────────────┘\n",
       "</pre>\n"
      ],
      "text/plain": [
       "┏━━━━━━━━━━━━━━━━━━━━━━━━━━━━━━━━━━━━━━┳━━━━━━━━━━━━━━━━━━━━━━━━━━━━━┳━━━━━━━━━━━━━━━━━┓\n",
       "┃\u001b[1m \u001b[0m\u001b[1mLayer (type)                        \u001b[0m\u001b[1m \u001b[0m┃\u001b[1m \u001b[0m\u001b[1mOutput Shape               \u001b[0m\u001b[1m \u001b[0m┃\u001b[1m \u001b[0m\u001b[1m        Param #\u001b[0m\u001b[1m \u001b[0m┃\n",
       "┡━━━━━━━━━━━━━━━━━━━━━━━━━━━━━━━━━━━━━━╇━━━━━━━━━━━━━━━━━━━━━━━━━━━━━╇━━━━━━━━━━━━━━━━━┩\n",
       "│ flatten (\u001b[38;5;33mFlatten\u001b[0m)                    │ (\u001b[38;5;45mNone\u001b[0m, \u001b[38;5;34m196608\u001b[0m)              │               \u001b[38;5;34m0\u001b[0m │\n",
       "├──────────────────────────────────────┼─────────────────────────────┼─────────────────┤\n",
       "│ dense (\u001b[38;5;33mDense\u001b[0m)                        │ (\u001b[38;5;45mNone\u001b[0m, \u001b[38;5;34m300\u001b[0m)                 │      \u001b[38;5;34m58,982,700\u001b[0m │\n",
       "├──────────────────────────────────────┼─────────────────────────────┼─────────────────┤\n",
       "│ dropout (\u001b[38;5;33mDropout\u001b[0m)                    │ (\u001b[38;5;45mNone\u001b[0m, \u001b[38;5;34m300\u001b[0m)                 │               \u001b[38;5;34m0\u001b[0m │\n",
       "├──────────────────────────────────────┼─────────────────────────────┼─────────────────┤\n",
       "│ dense_1 (\u001b[38;5;33mDense\u001b[0m)                      │ (\u001b[38;5;45mNone\u001b[0m, \u001b[38;5;34m100\u001b[0m)                 │          \u001b[38;5;34m30,100\u001b[0m │\n",
       "├──────────────────────────────────────┼─────────────────────────────┼─────────────────┤\n",
       "│ dropout_1 (\u001b[38;5;33mDropout\u001b[0m)                  │ (\u001b[38;5;45mNone\u001b[0m, \u001b[38;5;34m100\u001b[0m)                 │               \u001b[38;5;34m0\u001b[0m │\n",
       "├──────────────────────────────────────┼─────────────────────────────┼─────────────────┤\n",
       "│ dense_2 (\u001b[38;5;33mDense\u001b[0m)                      │ (\u001b[38;5;45mNone\u001b[0m, \u001b[38;5;34m3\u001b[0m)                   │             \u001b[38;5;34m303\u001b[0m │\n",
       "└──────────────────────────────────────┴─────────────────────────────┴─────────────────┘\n"
      ]
     },
     "metadata": {},
     "output_type": "display_data"
    },
    {
     "data": {
      "text/html": [
       "<pre style=\"white-space:pre;overflow-x:auto;line-height:normal;font-family:Menlo,'DejaVu Sans Mono',consolas,'Courier New',monospace\"><span style=\"font-weight: bold\"> Total params: </span><span style=\"color: #00af00; text-decoration-color: #00af00\">59,013,103</span> (225.12 MB)\n",
       "</pre>\n"
      ],
      "text/plain": [
       "\u001b[1m Total params: \u001b[0m\u001b[38;5;34m59,013,103\u001b[0m (225.12 MB)\n"
      ]
     },
     "metadata": {},
     "output_type": "display_data"
    },
    {
     "data": {
      "text/html": [
       "<pre style=\"white-space:pre;overflow-x:auto;line-height:normal;font-family:Menlo,'DejaVu Sans Mono',consolas,'Courier New',monospace\"><span style=\"font-weight: bold\"> Trainable params: </span><span style=\"color: #00af00; text-decoration-color: #00af00\">59,013,103</span> (225.12 MB)\n",
       "</pre>\n"
      ],
      "text/plain": [
       "\u001b[1m Trainable params: \u001b[0m\u001b[38;5;34m59,013,103\u001b[0m (225.12 MB)\n"
      ]
     },
     "metadata": {},
     "output_type": "display_data"
    },
    {
     "data": {
      "text/html": [
       "<pre style=\"white-space:pre;overflow-x:auto;line-height:normal;font-family:Menlo,'DejaVu Sans Mono',consolas,'Courier New',monospace\"><span style=\"font-weight: bold\"> Non-trainable params: </span><span style=\"color: #00af00; text-decoration-color: #00af00\">0</span> (0.00 B)\n",
       "</pre>\n"
      ],
      "text/plain": [
       "\u001b[1m Non-trainable params: \u001b[0m\u001b[38;5;34m0\u001b[0m (0.00 B)\n"
      ]
     },
     "metadata": {},
     "output_type": "display_data"
    }
   ],
   "source": [
    "ANN_model.summary()"
   ]
  },
  {
   "cell_type": "code",
   "execution_count": 42,
   "id": "9e3f64ee",
   "metadata": {},
   "outputs": [],
   "source": [
    "CNN_model = Sequential([\n",
    "    layers.Conv2D(32,kernel_size=(3,3),padding=\"same\",activation =\"relu\",input_shape=[256,256,3]),\n",
    "    layers.MaxPool2D(pool_size=2,strides=2,padding=\"valid\"),\n",
    "    layers.Conv2D(64,kernel_size=(3,3)),\n",
    "    layers.MaxPool2D(pool_size=2,strides=2,padding=\"valid\"),\n",
    "    layers.Conv2D(128,kernel_size=(3,3)),\n",
    "    layers.MaxPool2D(pool_size=2,strides=2,padding=\"valid\"),\n",
    "    layers.Flatten(),\n",
    "    layers.Dense(64,activation=\"relu\"),\n",
    "    layers.Dropout(0.2),\n",
    "    layers.Dense(32,activation=\"relu\"),\n",
    "    layers.Dense(3,activation=\"softmax\")\n",
    "    \n",
    "])"
   ]
  },
  {
   "cell_type": "code",
   "execution_count": 43,
   "id": "15b39d61",
   "metadata": {},
   "outputs": [
    {
     "data": {
      "text/html": [
       "<pre style=\"white-space:pre;overflow-x:auto;line-height:normal;font-family:Menlo,'DejaVu Sans Mono',consolas,'Courier New',monospace\"><span style=\"font-weight: bold\">Model: \"sequential_1\"</span>\n",
       "</pre>\n"
      ],
      "text/plain": [
       "\u001b[1mModel: \"sequential_1\"\u001b[0m\n"
      ]
     },
     "metadata": {},
     "output_type": "display_data"
    },
    {
     "data": {
      "text/html": [
       "<pre style=\"white-space:pre;overflow-x:auto;line-height:normal;font-family:Menlo,'DejaVu Sans Mono',consolas,'Courier New',monospace\">┏━━━━━━━━━━━━━━━━━━━━━━━━━━━━━━━━━━━━━━┳━━━━━━━━━━━━━━━━━━━━━━━━━━━━━┳━━━━━━━━━━━━━━━━━┓\n",
       "┃<span style=\"font-weight: bold\"> Layer (type)                         </span>┃<span style=\"font-weight: bold\"> Output Shape                </span>┃<span style=\"font-weight: bold\">         Param # </span>┃\n",
       "┡━━━━━━━━━━━━━━━━━━━━━━━━━━━━━━━━━━━━━━╇━━━━━━━━━━━━━━━━━━━━━━━━━━━━━╇━━━━━━━━━━━━━━━━━┩\n",
       "│ conv2d_2 (<span style=\"color: #0087ff; text-decoration-color: #0087ff\">Conv2D</span>)                    │ (<span style=\"color: #00d7ff; text-decoration-color: #00d7ff\">None</span>, <span style=\"color: #00af00; text-decoration-color: #00af00\">256</span>, <span style=\"color: #00af00; text-decoration-color: #00af00\">256</span>, <span style=\"color: #00af00; text-decoration-color: #00af00\">32</span>)        │             <span style=\"color: #00af00; text-decoration-color: #00af00\">896</span> │\n",
       "├──────────────────────────────────────┼─────────────────────────────┼─────────────────┤\n",
       "│ max_pooling2d_1 (<span style=\"color: #0087ff; text-decoration-color: #0087ff\">MaxPooling2D</span>)       │ (<span style=\"color: #00d7ff; text-decoration-color: #00d7ff\">None</span>, <span style=\"color: #00af00; text-decoration-color: #00af00\">128</span>, <span style=\"color: #00af00; text-decoration-color: #00af00\">128</span>, <span style=\"color: #00af00; text-decoration-color: #00af00\">32</span>)        │               <span style=\"color: #00af00; text-decoration-color: #00af00\">0</span> │\n",
       "├──────────────────────────────────────┼─────────────────────────────┼─────────────────┤\n",
       "│ conv2d_3 (<span style=\"color: #0087ff; text-decoration-color: #0087ff\">Conv2D</span>)                    │ (<span style=\"color: #00d7ff; text-decoration-color: #00d7ff\">None</span>, <span style=\"color: #00af00; text-decoration-color: #00af00\">126</span>, <span style=\"color: #00af00; text-decoration-color: #00af00\">126</span>, <span style=\"color: #00af00; text-decoration-color: #00af00\">64</span>)        │          <span style=\"color: #00af00; text-decoration-color: #00af00\">18,496</span> │\n",
       "├──────────────────────────────────────┼─────────────────────────────┼─────────────────┤\n",
       "│ max_pooling2d_2 (<span style=\"color: #0087ff; text-decoration-color: #0087ff\">MaxPooling2D</span>)       │ (<span style=\"color: #00d7ff; text-decoration-color: #00d7ff\">None</span>, <span style=\"color: #00af00; text-decoration-color: #00af00\">63</span>, <span style=\"color: #00af00; text-decoration-color: #00af00\">63</span>, <span style=\"color: #00af00; text-decoration-color: #00af00\">64</span>)          │               <span style=\"color: #00af00; text-decoration-color: #00af00\">0</span> │\n",
       "├──────────────────────────────────────┼─────────────────────────────┼─────────────────┤\n",
       "│ conv2d_4 (<span style=\"color: #0087ff; text-decoration-color: #0087ff\">Conv2D</span>)                    │ (<span style=\"color: #00d7ff; text-decoration-color: #00d7ff\">None</span>, <span style=\"color: #00af00; text-decoration-color: #00af00\">61</span>, <span style=\"color: #00af00; text-decoration-color: #00af00\">61</span>, <span style=\"color: #00af00; text-decoration-color: #00af00\">128</span>)         │          <span style=\"color: #00af00; text-decoration-color: #00af00\">73,856</span> │\n",
       "├──────────────────────────────────────┼─────────────────────────────┼─────────────────┤\n",
       "│ max_pooling2d_3 (<span style=\"color: #0087ff; text-decoration-color: #0087ff\">MaxPooling2D</span>)       │ (<span style=\"color: #00d7ff; text-decoration-color: #00d7ff\">None</span>, <span style=\"color: #00af00; text-decoration-color: #00af00\">30</span>, <span style=\"color: #00af00; text-decoration-color: #00af00\">30</span>, <span style=\"color: #00af00; text-decoration-color: #00af00\">128</span>)         │               <span style=\"color: #00af00; text-decoration-color: #00af00\">0</span> │\n",
       "├──────────────────────────────────────┼─────────────────────────────┼─────────────────┤\n",
       "│ flatten_1 (<span style=\"color: #0087ff; text-decoration-color: #0087ff\">Flatten</span>)                  │ (<span style=\"color: #00d7ff; text-decoration-color: #00d7ff\">None</span>, <span style=\"color: #00af00; text-decoration-color: #00af00\">115200</span>)              │               <span style=\"color: #00af00; text-decoration-color: #00af00\">0</span> │\n",
       "├──────────────────────────────────────┼─────────────────────────────┼─────────────────┤\n",
       "│ dense_3 (<span style=\"color: #0087ff; text-decoration-color: #0087ff\">Dense</span>)                      │ (<span style=\"color: #00d7ff; text-decoration-color: #00d7ff\">None</span>, <span style=\"color: #00af00; text-decoration-color: #00af00\">64</span>)                  │       <span style=\"color: #00af00; text-decoration-color: #00af00\">7,372,864</span> │\n",
       "├──────────────────────────────────────┼─────────────────────────────┼─────────────────┤\n",
       "│ dropout_2 (<span style=\"color: #0087ff; text-decoration-color: #0087ff\">Dropout</span>)                  │ (<span style=\"color: #00d7ff; text-decoration-color: #00d7ff\">None</span>, <span style=\"color: #00af00; text-decoration-color: #00af00\">64</span>)                  │               <span style=\"color: #00af00; text-decoration-color: #00af00\">0</span> │\n",
       "├──────────────────────────────────────┼─────────────────────────────┼─────────────────┤\n",
       "│ dense_4 (<span style=\"color: #0087ff; text-decoration-color: #0087ff\">Dense</span>)                      │ (<span style=\"color: #00d7ff; text-decoration-color: #00d7ff\">None</span>, <span style=\"color: #00af00; text-decoration-color: #00af00\">32</span>)                  │           <span style=\"color: #00af00; text-decoration-color: #00af00\">2,080</span> │\n",
       "├──────────────────────────────────────┼─────────────────────────────┼─────────────────┤\n",
       "│ dense_5 (<span style=\"color: #0087ff; text-decoration-color: #0087ff\">Dense</span>)                      │ (<span style=\"color: #00d7ff; text-decoration-color: #00d7ff\">None</span>, <span style=\"color: #00af00; text-decoration-color: #00af00\">3</span>)                   │              <span style=\"color: #00af00; text-decoration-color: #00af00\">99</span> │\n",
       "└──────────────────────────────────────┴─────────────────────────────┴─────────────────┘\n",
       "</pre>\n"
      ],
      "text/plain": [
       "┏━━━━━━━━━━━━━━━━━━━━━━━━━━━━━━━━━━━━━━┳━━━━━━━━━━━━━━━━━━━━━━━━━━━━━┳━━━━━━━━━━━━━━━━━┓\n",
       "┃\u001b[1m \u001b[0m\u001b[1mLayer (type)                        \u001b[0m\u001b[1m \u001b[0m┃\u001b[1m \u001b[0m\u001b[1mOutput Shape               \u001b[0m\u001b[1m \u001b[0m┃\u001b[1m \u001b[0m\u001b[1m        Param #\u001b[0m\u001b[1m \u001b[0m┃\n",
       "┡━━━━━━━━━━━━━━━━━━━━━━━━━━━━━━━━━━━━━━╇━━━━━━━━━━━━━━━━━━━━━━━━━━━━━╇━━━━━━━━━━━━━━━━━┩\n",
       "│ conv2d_2 (\u001b[38;5;33mConv2D\u001b[0m)                    │ (\u001b[38;5;45mNone\u001b[0m, \u001b[38;5;34m256\u001b[0m, \u001b[38;5;34m256\u001b[0m, \u001b[38;5;34m32\u001b[0m)        │             \u001b[38;5;34m896\u001b[0m │\n",
       "├──────────────────────────────────────┼─────────────────────────────┼─────────────────┤\n",
       "│ max_pooling2d_1 (\u001b[38;5;33mMaxPooling2D\u001b[0m)       │ (\u001b[38;5;45mNone\u001b[0m, \u001b[38;5;34m128\u001b[0m, \u001b[38;5;34m128\u001b[0m, \u001b[38;5;34m32\u001b[0m)        │               \u001b[38;5;34m0\u001b[0m │\n",
       "├──────────────────────────────────────┼─────────────────────────────┼─────────────────┤\n",
       "│ conv2d_3 (\u001b[38;5;33mConv2D\u001b[0m)                    │ (\u001b[38;5;45mNone\u001b[0m, \u001b[38;5;34m126\u001b[0m, \u001b[38;5;34m126\u001b[0m, \u001b[38;5;34m64\u001b[0m)        │          \u001b[38;5;34m18,496\u001b[0m │\n",
       "├──────────────────────────────────────┼─────────────────────────────┼─────────────────┤\n",
       "│ max_pooling2d_2 (\u001b[38;5;33mMaxPooling2D\u001b[0m)       │ (\u001b[38;5;45mNone\u001b[0m, \u001b[38;5;34m63\u001b[0m, \u001b[38;5;34m63\u001b[0m, \u001b[38;5;34m64\u001b[0m)          │               \u001b[38;5;34m0\u001b[0m │\n",
       "├──────────────────────────────────────┼─────────────────────────────┼─────────────────┤\n",
       "│ conv2d_4 (\u001b[38;5;33mConv2D\u001b[0m)                    │ (\u001b[38;5;45mNone\u001b[0m, \u001b[38;5;34m61\u001b[0m, \u001b[38;5;34m61\u001b[0m, \u001b[38;5;34m128\u001b[0m)         │          \u001b[38;5;34m73,856\u001b[0m │\n",
       "├──────────────────────────────────────┼─────────────────────────────┼─────────────────┤\n",
       "│ max_pooling2d_3 (\u001b[38;5;33mMaxPooling2D\u001b[0m)       │ (\u001b[38;5;45mNone\u001b[0m, \u001b[38;5;34m30\u001b[0m, \u001b[38;5;34m30\u001b[0m, \u001b[38;5;34m128\u001b[0m)         │               \u001b[38;5;34m0\u001b[0m │\n",
       "├──────────────────────────────────────┼─────────────────────────────┼─────────────────┤\n",
       "│ flatten_1 (\u001b[38;5;33mFlatten\u001b[0m)                  │ (\u001b[38;5;45mNone\u001b[0m, \u001b[38;5;34m115200\u001b[0m)              │               \u001b[38;5;34m0\u001b[0m │\n",
       "├──────────────────────────────────────┼─────────────────────────────┼─────────────────┤\n",
       "│ dense_3 (\u001b[38;5;33mDense\u001b[0m)                      │ (\u001b[38;5;45mNone\u001b[0m, \u001b[38;5;34m64\u001b[0m)                  │       \u001b[38;5;34m7,372,864\u001b[0m │\n",
       "├──────────────────────────────────────┼─────────────────────────────┼─────────────────┤\n",
       "│ dropout_2 (\u001b[38;5;33mDropout\u001b[0m)                  │ (\u001b[38;5;45mNone\u001b[0m, \u001b[38;5;34m64\u001b[0m)                  │               \u001b[38;5;34m0\u001b[0m │\n",
       "├──────────────────────────────────────┼─────────────────────────────┼─────────────────┤\n",
       "│ dense_4 (\u001b[38;5;33mDense\u001b[0m)                      │ (\u001b[38;5;45mNone\u001b[0m, \u001b[38;5;34m32\u001b[0m)                  │           \u001b[38;5;34m2,080\u001b[0m │\n",
       "├──────────────────────────────────────┼─────────────────────────────┼─────────────────┤\n",
       "│ dense_5 (\u001b[38;5;33mDense\u001b[0m)                      │ (\u001b[38;5;45mNone\u001b[0m, \u001b[38;5;34m3\u001b[0m)                   │              \u001b[38;5;34m99\u001b[0m │\n",
       "└──────────────────────────────────────┴─────────────────────────────┴─────────────────┘\n"
      ]
     },
     "metadata": {},
     "output_type": "display_data"
    },
    {
     "data": {
      "text/html": [
       "<pre style=\"white-space:pre;overflow-x:auto;line-height:normal;font-family:Menlo,'DejaVu Sans Mono',consolas,'Courier New',monospace\"><span style=\"font-weight: bold\"> Total params: </span><span style=\"color: #00af00; text-decoration-color: #00af00\">7,468,291</span> (28.49 MB)\n",
       "</pre>\n"
      ],
      "text/plain": [
       "\u001b[1m Total params: \u001b[0m\u001b[38;5;34m7,468,291\u001b[0m (28.49 MB)\n"
      ]
     },
     "metadata": {},
     "output_type": "display_data"
    },
    {
     "data": {
      "text/html": [
       "<pre style=\"white-space:pre;overflow-x:auto;line-height:normal;font-family:Menlo,'DejaVu Sans Mono',consolas,'Courier New',monospace\"><span style=\"font-weight: bold\"> Trainable params: </span><span style=\"color: #00af00; text-decoration-color: #00af00\">7,468,291</span> (28.49 MB)\n",
       "</pre>\n"
      ],
      "text/plain": [
       "\u001b[1m Trainable params: \u001b[0m\u001b[38;5;34m7,468,291\u001b[0m (28.49 MB)\n"
      ]
     },
     "metadata": {},
     "output_type": "display_data"
    },
    {
     "data": {
      "text/html": [
       "<pre style=\"white-space:pre;overflow-x:auto;line-height:normal;font-family:Menlo,'DejaVu Sans Mono',consolas,'Courier New',monospace\"><span style=\"font-weight: bold\"> Non-trainable params: </span><span style=\"color: #00af00; text-decoration-color: #00af00\">0</span> (0.00 B)\n",
       "</pre>\n"
      ],
      "text/plain": [
       "\u001b[1m Non-trainable params: \u001b[0m\u001b[38;5;34m0\u001b[0m (0.00 B)\n"
      ]
     },
     "metadata": {},
     "output_type": "display_data"
    }
   ],
   "source": [
    "CNN_model.summary()"
   ]
  },
  {
   "cell_type": "code",
   "execution_count": 50,
   "id": "6bf2347c",
   "metadata": {},
   "outputs": [],
   "source": [
    "ANN_model.compile(optimizer=\"Adam\",loss=\"sparse_categorical_crossentropy\",metrics=[\"accuracy\"])\n",
    "CNN_model.compile(optimizer=\"Adam\",loss=\"sparse_categorical_crossentropy\",metrics=[\"accuracy\"])"
   ]
  },
  {
   "cell_type": "code",
   "execution_count": 51,
   "id": "2ad914ad",
   "metadata": {},
   "outputs": [
    {
     "name": "stdout",
     "output_type": "stream",
     "text": [
      "Epoch 1/10\n",
      "\u001b[1m25/25\u001b[0m \u001b[32m━━━━━━━━━━━━━━━━━━━━\u001b[0m\u001b[37m\u001b[0m \u001b[1m18s\u001b[0m 689ms/step - accuracy: 0.3365 - loss: 15975.4590 - val_accuracy: 0.5303 - val_loss: 3156.8542\n",
      "Epoch 2/10\n",
      "\u001b[1m25/25\u001b[0m \u001b[32m━━━━━━━━━━━━━━━━━━━━\u001b[0m\u001b[37m\u001b[0m \u001b[1m17s\u001b[0m 670ms/step - accuracy: 0.3973 - loss: 4874.0552 - val_accuracy: 0.5354 - val_loss: 654.2536\n",
      "Epoch 3/10\n",
      "\u001b[1m25/25\u001b[0m \u001b[32m━━━━━━━━━━━━━━━━━━━━\u001b[0m\u001b[37m\u001b[0m \u001b[1m18s\u001b[0m 715ms/step - accuracy: 0.4460 - loss: 1474.7080 - val_accuracy: 0.4343 - val_loss: 226.2006\n",
      "Epoch 4/10\n",
      "\u001b[1m25/25\u001b[0m \u001b[32m━━━━━━━━━━━━━━━━━━━━\u001b[0m\u001b[37m\u001b[0m \u001b[1m17s\u001b[0m 675ms/step - accuracy: 0.3621 - loss: 163.2307 - val_accuracy: 0.3232 - val_loss: 1.1099\n",
      "Epoch 5/10\n",
      "\u001b[1m25/25\u001b[0m \u001b[32m━━━━━━━━━━━━━━━━━━━━\u001b[0m\u001b[37m\u001b[0m \u001b[1m17s\u001b[0m 677ms/step - accuracy: 0.3332 - loss: 1.1342 - val_accuracy: 0.3232 - val_loss: 1.1061\n",
      "Epoch 6/10\n",
      "\u001b[1m25/25\u001b[0m \u001b[32m━━━━━━━━━━━━━━━━━━━━\u001b[0m\u001b[37m\u001b[0m \u001b[1m18s\u001b[0m 717ms/step - accuracy: 0.3199 - loss: 1.0946 - val_accuracy: 0.3232 - val_loss: 1.1061\n",
      "Epoch 7/10\n",
      "\u001b[1m25/25\u001b[0m \u001b[32m━━━━━━━━━━━━━━━━━━━━\u001b[0m\u001b[37m\u001b[0m \u001b[1m17s\u001b[0m 686ms/step - accuracy: 0.3314 - loss: 1.0979 - val_accuracy: 0.3232 - val_loss: 1.1061\n",
      "Epoch 8/10\n",
      "\u001b[1m25/25\u001b[0m \u001b[32m━━━━━━━━━━━━━━━━━━━━\u001b[0m\u001b[37m\u001b[0m \u001b[1m17s\u001b[0m 674ms/step - accuracy: 0.3274 - loss: 1.0971 - val_accuracy: 0.3232 - val_loss: 1.1062\n",
      "Epoch 9/10\n",
      "\u001b[1m25/25\u001b[0m \u001b[32m━━━━━━━━━━━━━━━━━━━━\u001b[0m\u001b[37m\u001b[0m \u001b[1m17s\u001b[0m 692ms/step - accuracy: 0.3335 - loss: 1.0984 - val_accuracy: 0.3232 - val_loss: 1.1062\n",
      "Epoch 10/10\n",
      "\u001b[1m25/25\u001b[0m \u001b[32m━━━━━━━━━━━━━━━━━━━━\u001b[0m\u001b[37m\u001b[0m \u001b[1m17s\u001b[0m 674ms/step - accuracy: 0.3455 - loss: 1.0958 - val_accuracy: 0.3232 - val_loss: 1.1062\n"
     ]
    }
   ],
   "source": [
    "hist = ANN_model.fit(train_dta,epochs=10,validation_data=validation_dta)"
   ]
  },
  {
   "cell_type": "code",
   "execution_count": 53,
   "id": "aabf9d34",
   "metadata": {},
   "outputs": [
    {
     "data": {
      "image/png": "[encoded data removed]",
      "text/plain": [
       "<Figure size 800x500 with 1 Axes>"
      ]
     },
     "metadata": {},
     "output_type": "display_data"
    }
   ],
   "source": [
    "pd.DataFrame(hist.history).plot(figsize=(8,5))\n",
    "plt.grid(True)\n",
    "plt.gca().set_ylim(0,2)\n",
    "plt.show()"
   ]
  },
  {
   "cell_type": "code",
   "execution_count": 54,
   "id": "9654c166",
   "metadata": {},
   "outputs": [
    {
     "name": "stdout",
     "output_type": "stream",
     "text": [
      "Epoch 1/10\n",
      "\u001b[1m25/25\u001b[0m \u001b[32m━━━━━━━━━━━━━━━━━━━━\u001b[0m\u001b[37m\u001b[0m \u001b[1m24s\u001b[0m 896ms/step - accuracy: 0.3160 - loss: 538.3396 - val_accuracy: 0.3434 - val_loss: 105.5988\n",
      "Epoch 2/10\n",
      "\u001b[1m25/25\u001b[0m \u001b[32m━━━━━━━━━━━━━━━━━━━━\u001b[0m\u001b[37m\u001b[0m \u001b[1m22s\u001b[0m 888ms/step - accuracy: 0.3644 - loss: 125.5796 - val_accuracy: 0.3081 - val_loss: 5.0664\n",
      "Epoch 3/10\n",
      "\u001b[1m25/25\u001b[0m \u001b[32m━━━━━━━━━━━━━━━━━━━━\u001b[0m\u001b[37m\u001b[0m \u001b[1m24s\u001b[0m 968ms/step - accuracy: 0.3204 - loss: 1.3070 - val_accuracy: 0.3182 - val_loss: 1.1107\n",
      "Epoch 4/10\n",
      "\u001b[1m25/25\u001b[0m \u001b[32m━━━━━━━━━━━━━━━━━━━━\u001b[0m\u001b[37m\u001b[0m \u001b[1m22s\u001b[0m 890ms/step - accuracy: 0.3283 - loss: 1.1008 - val_accuracy: 0.3283 - val_loss: 1.1013\n",
      "Epoch 5/10\n",
      "\u001b[1m25/25\u001b[0m \u001b[32m━━━━━━━━━━━━━━━━━━━━\u001b[0m\u001b[37m\u001b[0m \u001b[1m24s\u001b[0m 944ms/step - accuracy: 0.3238 - loss: 1.0987 - val_accuracy: 0.3283 - val_loss: 1.1006\n",
      "Epoch 6/10\n",
      "\u001b[1m25/25\u001b[0m \u001b[32m━━━━━━━━━━━━━━━━━━━━\u001b[0m\u001b[37m\u001b[0m \u001b[1m23s\u001b[0m 936ms/step - accuracy: 0.3400 - loss: 1.0990 - val_accuracy: 0.3283 - val_loss: 1.1002\n",
      "Epoch 7/10\n",
      "\u001b[1m25/25\u001b[0m \u001b[32m━━━━━━━━━━━━━━━━━━━━\u001b[0m\u001b[37m\u001b[0m \u001b[1m23s\u001b[0m 912ms/step - accuracy: 0.3406 - loss: 1.0985 - val_accuracy: 0.3283 - val_loss: 1.0998\n",
      "Epoch 8/10\n",
      "\u001b[1m25/25\u001b[0m \u001b[32m━━━━━━━━━━━━━━━━━━━━\u001b[0m\u001b[37m\u001b[0m \u001b[1m24s\u001b[0m 981ms/step - accuracy: 0.3583 - loss: 1.0975 - val_accuracy: 0.3283 - val_loss: 1.0997\n",
      "Epoch 9/10\n",
      "\u001b[1m25/25\u001b[0m \u001b[32m━━━━━━━━━━━━━━━━━━━━\u001b[0m\u001b[37m\u001b[0m \u001b[1m22s\u001b[0m 893ms/step - accuracy: 0.3292 - loss: 1.0987 - val_accuracy: 0.3283 - val_loss: 1.0996\n",
      "Epoch 10/10\n",
      "\u001b[1m25/25\u001b[0m \u001b[32m━━━━━━━━━━━━━━━━━━━━\u001b[0m\u001b[37m\u001b[0m \u001b[1m22s\u001b[0m 887ms/step - accuracy: 0.3288 - loss: 1.0988 - val_accuracy: 0.3283 - val_loss: 1.0994\n"
     ]
    }
   ],
   "source": [
    "hist1 = CNN_model.fit(train_dta,epochs=10,validation_data=validation_dta)"
   ]
  },
  {
   "cell_type": "code",
   "execution_count": 55,
   "id": "726b6ffe",
   "metadata": {},
   "outputs": [
    {
     "data": {
      "image/png": "[encoded data removed]",
      "text/plain": [
       "<Figure size 800x500 with 1 Axes>"
      ]
     },
     "metadata": {},
     "output_type": "display_data"
    }
   ],
   "source": [
    "pd.DataFrame(hist1.history).plot(figsize=(8,5))\n",
    "plt.grid(True)\n",
    "plt.gca().set_ylim(0,2)\n",
    "plt.show()"
   ]
  },
  {
   "cell_type": "code",
   "execution_count": null,
   "id": "38fc2cf6",
   "metadata": {},
   "outputs": [],
   "source": []
  }
 ],
 "metadata": {
  "kernelspec": {
   "display_name": "Python 3 (ipykernel)",
   "language": "python",
   "name": "python3"
  },
  "language_info": {
   "codemirror_mode": {
    "name": "ipython",
    "version": 3
   },
   "file_extension": ".py",
   "mimetype": "text/x-python",
   "name": "python",
   "nbconvert_exporter": "python",
   "pygments_lexer": "ipython3",
   "version": "3.11.4"
  }
 },
 "nbformat": 4,
 "nbformat_minor": 5
}
