{
  "nbformat": 4,
  "nbformat_minor": 0,
  "metadata": {
    "colab": {
      "provenance": []
    },
    "kernelspec": {
      "name": "python3",
      "display_name": "Python 3"
    },
    "language_info": {
      "name": "python"
    }
  },
  "cells": [
    {
      "cell_type": "code",
      "source": [
        "from ultralytics import YOLO\n",
        "\n",
        "model = YOLO('yolov8n.pt')\n",
        "r = model('/content/newteam.png')\n",
        "r[0].save('out.jpg')\n",
        "\n",
        "print(r[0].boxes.xyxy, r[0].boxes.conf, r[0].boxes.cls)"
      ],
      "metadata": {
        "colab": {
          "base_uri": "https://localhost:8080/"
        },
        "id": "5Ss9ct1ozmbO",
        "outputId": "d0fb3a29-4109-4053-c4f7-3e0eef19ef2e"
      },
      "execution_count": 19,
      "outputs": [
        {
          "output_type": "stream",
          "name": "stdout",
          "text": [
            "\n",
            "image 1/1 /content/newteam.png: 288x640 8 persons, 126.4ms\n",
            "Speed: 7.8ms preprocess, 126.4ms inference, 27.3ms postprocess per image at shape (1, 3, 288, 640)\n",
            "tensor([[660.8760, 162.5964, 773.6870, 399.6062],\n",
            "        [152.9280, 122.3537, 287.4171, 398.8502],\n",
            "        [477.2164, 100.1492, 597.3149, 397.5312],\n",
            "        [730.6337, 107.2991, 868.3724, 397.8787],\n",
            "        [ 38.8420, 135.8755, 168.1841, 399.3721],\n",
            "        [366.9600, 120.3269, 487.8462, 398.3753],\n",
            "        [582.9289,  78.2624, 702.3135, 398.1465],\n",
            "        [261.4282, 124.2590, 380.6071, 398.9987]]) tensor([0.9113, 0.9009, 0.8952, 0.8945, 0.8857, 0.8779, 0.8472, 0.8363]) tensor([0., 0., 0., 0., 0., 0., 0., 0.])\n"
          ]
        }
      ]
    },
    {
      "cell_type": "code",
      "source": [],
      "metadata": {
        "id": "SKfCVoOA7sg3"
      },
      "execution_count": null,
      "outputs": []
    }
  ]
}